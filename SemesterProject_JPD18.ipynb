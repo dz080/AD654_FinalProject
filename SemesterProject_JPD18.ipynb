{
 "cells": [
  {
   "cell_type": "code",
   "execution_count": 1,
   "id": "6b69a209-5347-49f1-acb6-ea23383eb464",
   "metadata": {},
   "outputs": [],
   "source": [
    "import numpy as np\n",
    "import pandas as pd"
   ]
  },
  {
   "cell_type": "markdown",
   "id": "76cd6151-c34e-4e55-bb06-8605bdec050a",
   "metadata": {},
   "source": [
    "# Data Visualization"
   ]
  },
  {
   "cell_type": "markdown",
   "id": "4801ef63-d2fa-47d8-bf39-982049671c13",
   "metadata": {},
   "source": [
    "# Summary Stats"
   ]
  },
  {
   "cell_type": "markdown",
   "id": "f49c9e87-1262-48ad-adf9-fdd371458834",
   "metadata": {},
   "source": [
    "## Exploratory Data Analysis"
   ]
  },
  {
   "cell_type": "markdown",
   "id": "9342aceb-0dfe-483a-816f-515167e6e9da",
   "metadata": {},
   "source": [
    "# Segmentation and Targeting"
   ]
  },
  {
   "cell_type": "markdown",
   "id": "7ad2aabc-bc7d-4498-8753-c8769c0d4a5f",
   "metadata": {},
   "source": [
    "# Conjoint Analysis & Memo Section"
   ]
  },
  {
   "cell_type": "markdown",
   "id": "8df9598a-d709-464c-b452-d03e15d95e5e",
   "metadata": {},
   "source": [
    "# Forecasting Total Revenue"
   ]
  },
  {
   "cell_type": "markdown",
   "id": "6372e502-fdc1-4f34-b0e7-5a83ea203481",
   "metadata": {},
   "source": [
    "# Classification"
   ]
  },
  {
   "cell_type": "markdown",
   "id": "94fe2e83-9bae-40ba-b557-ae81ee078e0a",
   "metadata": {},
   "source": [
    "# Strategic Memo"
   ]
  },
  {
   "cell_type": "markdown",
   "id": "1348552a-d673-4930-96c2-a300f037e0ad",
   "metadata": {},
   "source": [
    "# A/B Testing"
   ]
  },
  {
   "cell_type": "markdown",
   "id": "486073a5-462b-48c3-8239-7394de141f51",
   "metadata": {},
   "source": [
    "# Conclusions"
   ]
  },
  {
   "cell_type": "code",
   "execution_count": null,
   "id": "0ce081b5-dc36-4555-af6e-bee186ff8def",
   "metadata": {},
   "outputs": [],
   "source": []
  }
 ],
 "metadata": {
  "kernelspec": {
   "display_name": "Python 3 (ipykernel)",
   "language": "python",
   "name": "python3"
  },
  "language_info": {
   "codemirror_mode": {
    "name": "ipython",
    "version": 3
   },
   "file_extension": ".py",
   "mimetype": "text/x-python",
   "name": "python",
   "nbconvert_exporter": "python",
   "pygments_lexer": "ipython3",
   "version": "3.9.13"
  }
 },
 "nbformat": 4,
 "nbformat_minor": 5
}
