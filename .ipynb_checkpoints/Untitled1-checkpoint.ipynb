{
 "cells": [
  {
   "cell_type": "code",
   "execution_count": null,
   "id": "b394488e-09ba-48a2-802e-1e93b30a9f6a",
   "metadata": {},
   "outputs": [],
   "source": []
  }
 ],
 "metadata": {
  "kernelspec": {
   "display_name": "",
   "name": ""
  },
  "language_info": {
   "name": ""
  }
 },
 "nbformat": 4,
 "nbformat_minor": 5
}
